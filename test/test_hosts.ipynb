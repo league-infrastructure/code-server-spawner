{
 "cells": [
  {
   "cell_type": "code",
   "execution_count": 1,
   "metadata": {},
   "outputs": [
    {
     "name": "stdout",
     "output_type": "stream",
     "text": [
      "sqlite:////Users/eric/proj/league-projects/code-server-mono/code-server-spawner/test/test.db\n"
     ]
    }
   ],
   "source": [
    "%load_ext autoreload\n",
    "%autoreload 2\n",
    "import logging\n",
    "import unittest\n",
    "import warnings\n",
    "from pathlib import Path\n",
    "\n",
    "import pytest\n",
    "from faker import Faker\n",
    "\n",
    "import cspawn\n",
    "from cspawn.cli.util import create_demo_users, create_demo_images, make_data\n",
    "from cspawn.docker.models import CodeHost, HostImage\n",
    "from cspawn.init import db\n",
    "from cspawn.main.models import User\n",
    "from cspawn.apptypes import App \n",
    "from cspawn.cli.util import create_demo_users, create_demo_images, make_data\n",
    "\n",
    "from cspawn.init import init_app\n",
    "\n",
    "this_dir = Path().cwd()\n",
    "config_dir = Path(cspawn.__file__).parent.parent\n",
    "dev_root = this_dir.parent\n",
    "data_dir = dev_root / \"data\"\n",
    "\n",
    "warnings.filterwarnings(\"ignore\")\n",
    "\n",
    "app = init_app(\n",
    "    config_dir=config_dir,\n",
    "    log_level=logging.ERROR,\n",
    "    sqlfile=this_dir / \"test.db\")\n",
    "\n",
    "with app.app_context():\n",
    "    print(app.db.engine.url)\n",
    "    app.db.create_all()\n",
    "    create_demo_users(app)\n",
    "    create_demo_images(app)\n"
   ]
  },
  {
   "cell_type": "code",
   "execution_count": 2,
   "metadata": {},
   "outputs": [
    {
     "name": "stdout",
     "output_type": "stream",
     "text": [
      "sqlite:////Users/eric/proj/league-projects/code-server-mono/code-server-spawner/test/test.db\n"
     ]
    },
    {
     "name": "stderr",
     "output_type": "stream",
     "text": [
      "ERROR:cspawnctl:Container for EricAdmin already exists: 409 Client Error for http+docker://ssh/v1.47/services/create: Conflict (\"rpc error: code = AlreadyExists desc = name conflicts with an existing object: service ericadmin already exists\")\n"
     ]
    }
   ],
   "source": [
    "with app.app_context():\n",
    "    print(app.db.engine.url)\n",
    "    user: User = User.query.first()\n",
    "    image: HostImage = HostImage.query.first()\n",
    "\n",
    "csm = app.csm\n",
    "\n",
    "r = csm.new_cs(user, image.image_uri, image.repo_uri)\n",
    "r"
   ]
  },
  {
   "cell_type": "code",
   "execution_count": 3,
   "metadata": {},
   "outputs": [
    {
     "ename": "AttributeError",
     "evalue": "'NoneType' object has no attribute 'hostname'",
     "output_type": "error",
     "traceback": [
      "\u001b[0;31m---------------------------------------------------------------------------\u001b[0m",
      "\u001b[0;31mAttributeError\u001b[0m                            Traceback (most recent call last)",
      "Cell \u001b[0;32mIn[3], line 1\u001b[0m\n\u001b[0;32m----> 1\u001b[0m \u001b[43mr\u001b[49m\u001b[38;5;241;43m.\u001b[39;49m\u001b[43mhostname\u001b[49m\n",
      "\u001b[0;31mAttributeError\u001b[0m: 'NoneType' object has no attribute 'hostname'"
     ]
    }
   ],
   "source": [
    "r.hostname"
   ]
  },
  {
   "cell_type": "code",
   "execution_count": null,
   "metadata": {},
   "outputs": [],
   "source": []
  }
 ],
 "metadata": {
  "kernelspec": {
   "display_name": ".venv",
   "language": "python",
   "name": "python3"
  },
  "language_info": {
   "codemirror_mode": {
    "name": "ipython",
    "version": 3
   },
   "file_extension": ".py",
   "mimetype": "text/x-python",
   "name": "python",
   "nbconvert_exporter": "python",
   "pygments_lexer": "ipython3",
   "version": "3.11.11"
  }
 },
 "nbformat": 4,
 "nbformat_minor": 2
}
