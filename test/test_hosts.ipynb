{
 "cells": [
  {
   "cell_type": "code",
   "execution_count": 39,
   "metadata": {},
   "outputs": [
    {
     "name": "stdout",
     "output_type": "stream",
     "text": [
      "The autoreload extension is already loaded. To reload it, use:\n",
      "  %reload_ext autoreload\n"
     ]
    }
   ],
   "source": [
    "%load_ext autoreload\n",
    "%autoreload 2\n",
    "import logging\n",
    "import unittest\n",
    "import warnings\n",
    "from pathlib import Path\n",
    "from sqlalchemy import MetaData\n",
    "\n",
    "import pytest\n",
    "from faker import Faker\n",
    "\n",
    "import cspawn\n",
    "from cspawn.cli.util import create_demo_users, create_demo_images, make_data\n",
    "from cspawn.docker.models import CodeHost, HostImage\n",
    "from cspawn.init import db\n",
    "from cspawn.main.models import User\n",
    "from cspawn.apptypes import App \n",
    "from cspawn.cli.util import create_demo_users, create_demo_images, make_data\n",
    "from cspawn.test_fixture import make_fake_user  \n",
    "\n",
    "from cspawn.init import init_app\n",
    "\n",
    "logger = logging.getLogger(\"cspawn.docker\")\n",
    "logger.setLevel(logging.INFO)\n",
    "\n",
    "this_dir = Path().cwd()\n",
    "config_dir = Path(cspawn.__file__).parent.parent\n",
    "dev_root = this_dir.parent\n",
    "data_dir = dev_root / \"data\"\n",
    "\n",
    "warnings.filterwarnings(\"ignore\")\n",
    "\n",
    "app = init_app(\n",
    "    config_dir=config_dir,\n",
    "    log_level=logging.ERROR,\n",
    "    sqlfile=this_dir / \"test.db\")\n"
   ]
  },
  {
   "cell_type": "code",
   "execution_count": 2,
   "metadata": {},
   "outputs": [
    {
     "name": "stdout",
     "output_type": "stream",
     "text": [
      "sqlite:////Users/eric/proj/league-projects/code-server-mono/code-server-spawner/test/test.db\n",
      "Database tables destroyed successfully.\n"
     ]
    }
   ],
   "source": [
    "\n",
    "with app.app_context():\n",
    "    print(app.db.engine.url)\n",
    "    \n",
    "    db = app.db\n",
    "    e = db.engine\n",
    "\n",
    "    m = MetaData()\n",
    "    m.reflect(e)\n",
    "    m.drop_all(e)\n",
    "    print(\"Database tables destroyed successfully.\")\n",
    "\n",
    "    db.create_all()\n",
    "\n",
    "    create_demo_users(app)\n",
    "    create_demo_images(app)\n",
    "\n",
    "with app.app_context():\n",
    "    app.csm.sync(check_ready=True)    \n"
   ]
  },
  {
   "cell_type": "code",
   "execution_count": 47,
   "metadata": {},
   "outputs": [
    {
     "name": "stderr",
     "output_type": "stream",
     "text": [
      "INFO:cspawn.docker:Services in db but not in swarm: 0\n",
      "INFO:cspawn.docker:Syncing not-ready hosts: 0\n",
      "INFO:cspawn.docker:Syncing not-in-db hosts: 0\n"
     ]
    }
   ],
   "source": []
  },
  {
   "cell_type": "code",
   "execution_count": 4,
   "metadata": {},
   "outputs": [],
   "source": [
    "fake = Faker()\n",
    "\n",
    "with app.app_context():\n",
    "    users = [make_fake_user(fake) for _ in range(100)]\n",
    "    app.db.session.bulk_save_objects(users)\n",
    "    app.db.session.commit()"
   ]
  },
  {
   "cell_type": "code",
   "execution_count": 28,
   "metadata": {},
   "outputs": [
    {
     "data": {
      "text/plain": [
       "'1740879958.368096 solomonjennifer running  unknown'"
      ]
     },
     "metadata": {},
     "output_type": "display_data"
    }
   ],
   "source": [
    "from time import sleep, time\n",
    "from IPython.display import display\n",
    "from IPython.display import clear_output\n",
    "\n",
    "with app.app_context():\n",
    "    print(app.db.engine.url)\n",
    "    users = User.query.all()\n",
    "    user: User = fake.random_element(users)\n",
    "    image: HostImage = HostImage.query.first()\n",
    "\n",
    "    csm = app.csm\n",
    "\n",
    "    r = csm.new_cs(user, image.image_uri, image.repo_uri)\n",
    "\n",
    "    e = str(user), r.name, r.container_states\n",
    "\n",
    "    while True:\n",
    "        if r.check_ready():\n",
    "            break\n",
    "        rec = r.rec\n",
    "        clear_output(wait=True)\n",
    "        display(f\"{time()} {rec.service_name} {rec.state}  {rec.app_state}\")\n",
    "        sleep(2)\n",
    "        \n",
    "    url = r.rec.public_url\n",
    "    \n",
    "\n"
   ]
  },
  {
   "cell_type": "code",
   "execution_count": 29,
   "metadata": {},
   "outputs": [],
   "source": [
    "with app.app_context():\n",
    "    r.sync_to_db(check_ready=True)"
   ]
  },
  {
   "cell_type": "code",
   "execution_count": 8,
   "metadata": {},
   "outputs": [
    {
     "ename": "AttributeError",
     "evalue": "'NoneType' object has no attribute 'sync_to_db'",
     "output_type": "error",
     "traceback": [
      "\u001b[0;31m---------------------------------------------------------------------------\u001b[0m",
      "\u001b[0;31mAttributeError\u001b[0m                            Traceback (most recent call last)",
      "Cell \u001b[0;32mIn[8], line 3\u001b[0m\n\u001b[1;32m      1\u001b[0m \u001b[38;5;28;01mwith\u001b[39;00m app\u001b[38;5;241m.\u001b[39mapp_context():\n\u001b[1;32m      2\u001b[0m     x \u001b[38;5;241m=\u001b[39m app\u001b[38;5;241m.\u001b[39mcsm\u001b[38;5;241m.\u001b[39mget(\u001b[38;5;124m'\u001b[39m\u001b[38;5;124mu8cmauoe5bb7xvu6qy5zc72xo\u001b[39m\u001b[38;5;124m'\u001b[39m)\n\u001b[0;32m----> 3\u001b[0m     \u001b[43mx\u001b[49m\u001b[38;5;241;43m.\u001b[39;49m\u001b[43msync_to_db\u001b[49m()\n",
      "\u001b[0;31mAttributeError\u001b[0m: 'NoneType' object has no attribute 'sync_to_db'"
     ]
    }
   ],
   "source": [
    "with app.app_context():\n",
    "    x = app.csm.get('u8cmauoe5bb7xvu6qy5zc72xo')\n",
    "    x.sync_to_db()\n",
    "    \n"
   ]
  },
  {
   "cell_type": "code",
   "execution_count": null,
   "metadata": {},
   "outputs": [
    {
     "data": {
      "text/plain": [
       "'u8cmauoe5bb7xvu6qy5zc72xo'"
      ]
     },
     "execution_count": 27,
     "metadata": {},
     "output_type": "execute_result"
    }
   ],
   "source": [
    "x.id"
   ]
  },
  {
   "cell_type": "code",
   "execution_count": null,
   "metadata": {},
   "outputs": [
    {
     "data": {
      "text/plain": [
       "'bobstaff.doswarm.jointheleague.org'"
      ]
     },
     "execution_count": 17,
     "metadata": {},
     "output_type": "execute_result"
    }
   ],
   "source": [
    "r.hostname"
   ]
  },
  {
   "cell_type": "code",
   "execution_count": null,
   "metadata": {},
   "outputs": [],
   "source": []
  }
 ],
 "metadata": {
  "kernelspec": {
   "display_name": ".venv",
   "language": "python",
   "name": "python3"
  },
  "language_info": {
   "codemirror_mode": {
    "name": "ipython",
    "version": 3
   },
   "file_extension": ".py",
   "mimetype": "text/x-python",
   "name": "python",
   "nbconvert_exporter": "python",
   "pygments_lexer": "ipython3",
   "version": "3.11.11"
  }
 },
 "nbformat": 4,
 "nbformat_minor": 2
}
