{
 "cells": [
  {
   "cell_type": "code",
   "execution_count": 1,
   "metadata": {},
   "outputs": [],
   "source": [
    "%load_ext autoreload\n",
    "%autoreload 2\n"
   ]
  },
  {
   "cell_type": "code",
   "execution_count": null,
   "metadata": {},
   "outputs": [],
   "source": [
    "\n",
    "import logging\n",
    "import unittest\n",
    "import warnings\n",
    "from pathlib import Path\n",
    "from sqlalchemy import MetaData\n",
    "\n",
    "import pytest\n",
    "from faker import Faker\n",
    "\n",
    "import cspawn\n",
    "from cspawn.cli.util import create_demo_users, create_demo_images, make_data\n",
    "from cspawn.docker.models import CodeHost, HostImage\n",
    "from cspawn.init import db\n",
    "from cspawn.main.models import User\n",
    "from cspawn.util.apptypes import App \n",
    "from cspawn.cli.util import create_demo_users, create_demo_images, make_data\n",
    "from cspawn.util.test_fixture import make_fake_user  \n",
    "\n",
    "from cspawn.init import init_app\n",
    "import bcrypt\n",
    "\n",
    "logger = logging.getLogger(\"cspawn.docker\")\n",
    "logger.setLevel(logging.INFO)\n",
    "\n",
    "this_dir = Path().cwd()\n",
    "config_dir = Path(cspawn.__file__).parent.parent\n",
    "dev_root = this_dir.parent\n",
    "data_dir = dev_root / \"data\"\n",
    "\n",
    "warnings.filterwarnings(\"ignore\")\n",
    "\n",
    "app = init_app(\n",
    "    config_dir=config_dir,\n",
    "    log_level=logging.ERROR,\n",
    "    sqlfile=this_dir / \"test.db\")\n"
   ]
  },
  {
   "cell_type": "code",
   "execution_count": 43,
   "metadata": {},
   "outputs": [
    {
     "name": "stdout",
     "output_type": "stream",
     "text": [
      "$2b$14$9f/OQY4S8sxhLtYmZNlp3OXlrsSkNmSBjIczclOMMIzcSdOcqKvQe\n",
      "$$2b$$14$$9f/OQY4S8sxhLtYmZNlp3OXlrsSkNmSBjIczclOMMIzcSdOcqKvQe\n"
     ]
    }
   ],
   "source": [
    "from cspawn.util.auth import * \n",
    "\n",
    "password = 'password'\n",
    "password_enc = password.encode('utf-8')\n",
    "hashed = basic_auth_hash(password)\n",
    "quoted = docker_label_escape(hashed)\n",
    "\n",
    "print(hashed)\n",
    "print(quoted)"
   ]
  },
  {
   "cell_type": "code",
   "execution_count": 7,
   "metadata": {},
   "outputs": [
    {
     "name": "stdout",
     "output_type": "stream",
     "text": [
      "CPU times: user 2.73 s, sys: 64.2 ms, total: 2.8 s\n",
      "Wall time: 3.08 s\n"
     ]
    },
    {
     "data": {
      "text/plain": [
       "(354537, 0.354537)"
      ]
     },
     "execution_count": 7,
     "metadata": {},
     "output_type": "execute_result"
    }
   ],
   "source": [
    "%%time\n",
    "from cspawn.util.names import class_code\n",
    "\n",
    "s = set()\n",
    "N = int(1e6)\n",
    "for i in range(N):\n",
    "    s.add(class_code())\n",
    "\n",
    "len(s), len(s)/N"
   ]
  },
  {
   "cell_type": "code",
   "execution_count": 8,
   "metadata": {},
   "outputs": [
    {
     "data": {
      "text/plain": [
       "count    354537.000000\n",
       "mean         18.899731\n",
       "std           2.803537\n",
       "min           8.000000\n",
       "25%          17.000000\n",
       "50%          19.000000\n",
       "75%          21.000000\n",
       "max          25.000000\n",
       "dtype: float64"
      ]
     },
     "execution_count": 8,
     "metadata": {},
     "output_type": "execute_result"
    }
   ],
   "source": [
    "\n",
    "import pandas as pd\n",
    "\n",
    "# Calculate the lengths of strings in the set s\n",
    "lengths = [len(item) for item in s]\n",
    "\n",
    "pd.Series(lengths).describe()\n"
   ]
  },
  {
   "cell_type": "code",
   "execution_count": 10,
   "metadata": {},
   "outputs": [
    {
     "data": {
      "text/plain": [
       "['96 assembled owls',\n",
       " 'backus craves onions',\n",
       " '96 assembled bats',\n",
       " '86 foxes gulp grapes',\n",
       " '86 geese gulp grapes',\n",
       " '78 sheep enjoy carrots',\n",
       " '78 geese enjoy carrots',\n",
       " '20 faulty wolves',\n",
       " '20 greedy wolves',\n",
       " 'backus smells beans',\n",
       " '63 goats love cheese',\n",
       " '63 bears love cheese',\n",
       " '73 lazy rabbits',\n",
       " '61 serialized rabbits',\n",
       " '61 normalized rabbits',\n",
       " '76 implicit owls',\n",
       " '26 mice crave oranges',\n",
       " '26 pigs crave oranges',\n",
       " '26 owls crave oranges',\n",
       " '47 linear eagles',\n",
       " '25 fish nibble cheese',\n",
       " '25 rats nibble cheese',\n",
       " '2 compiled turtles',\n",
       " '7 rats crave eggs',\n",
       " '28 horses nibble yogurt',\n",
       " '49 lazy dogs',\n",
       " '57 frogs consume melon',\n",
       " '57 foxes consume melon',\n",
       " '31 responsive turtles',\n",
       " '9 fish devour bananas',\n",
       " 'backus loves rabbits',\n",
       " 'iverson nibbles deer',\n",
       " 'lamport enjoys pizza',\n",
       " '29 ducks chomp eggs',\n",
       " '59 wolves chew carrots',\n",
       " 'hamming pets rabbits',\n",
       " '5 goats consume pasta',\n",
       " '51 owls taste chicken',\n",
       " '51 bats taste chicken',\n",
       " '99 bats nibble onions',\n",
       " '68 semantic cats',\n",
       " '97 lions taste apples',\n",
       " '97 birds taste apples',\n",
       " '97 goats taste apples',\n",
       " '44 patched dogs',\n",
       " '14 fish devour carrots',\n",
       " '44 bounded dogs',\n",
       " '44 aligned dogs',\n",
       " '44 indexed dogs',\n",
       " '44 blocked dogs']"
      ]
     },
     "execution_count": 10,
     "metadata": {},
     "output_type": "execute_result"
    }
   ],
   "source": [
    "list(s)[-50:]"
   ]
  },
  {
   "cell_type": "code",
   "execution_count": null,
   "metadata": {},
   "outputs": [],
   "source": []
  }
 ],
 "metadata": {
  "kernelspec": {
   "display_name": ".venv",
   "language": "python",
   "name": "python3"
  },
  "language_info": {
   "codemirror_mode": {
    "name": "ipython",
    "version": 3
   },
   "file_extension": ".py",
   "mimetype": "text/x-python",
   "name": "python",
   "nbconvert_exporter": "python",
   "pygments_lexer": "ipython3",
   "version": "3.11.11"
  }
 },
 "nbformat": 4,
 "nbformat_minor": 2
}
