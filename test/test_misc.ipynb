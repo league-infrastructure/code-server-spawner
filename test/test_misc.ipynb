{
 "cells": [
  {
   "cell_type": "code",
   "execution_count": 1,
   "metadata": {},
   "outputs": [],
   "source": [
    "%load_ext autoreload\n",
    "%autoreload 2\n"
   ]
  },
  {
   "cell_type": "code",
   "execution_count": null,
   "metadata": {},
   "outputs": [],
   "source": [
    "\n",
    "import logging\n",
    "import unittest\n",
    "import warnings\n",
    "from pathlib import Path\n",
    "from sqlalchemy import MetaData\n",
    "\n",
    "import pytest\n",
    "from faker import Faker\n",
    "\n",
    "import cspawn\n",
    "from cspawn.cli.util import create_demo_users, create_demo_images, make_data\n",
    "from cspawn.docker.models import CodeHost, HostImage\n",
    "from cspawn.init import db\n",
    "from cspawn.main.models import User\n",
    "from cspawn.util.apptypes import App \n",
    "from cspawn.cli.util import create_demo_users, create_demo_images, make_data\n",
    "from cspawn.util.test_fixture import make_fake_user  \n",
    "\n",
    "from cspawn.init import init_app\n",
    "import bcrypt\n",
    "\n",
    "logger = logging.getLogger(\"cspawn.docker\")\n",
    "logger.setLevel(logging.INFO)\n",
    "\n",
    "this_dir = Path().cwd()\n",
    "config_dir = Path(cspawn.__file__).parent.parent\n",
    "dev_root = this_dir.parent\n",
    "data_dir = dev_root / \"data\"\n",
    "\n",
    "warnings.filterwarnings(\"ignore\")\n",
    "\n",
    "app = init_app(\n",
    "    config_dir=config_dir,\n",
    "    log_level=logging.ERROR,\n",
    "    sqlfile=this_dir / \"test.db\")\n"
   ]
  },
  {
   "cell_type": "code",
   "execution_count": 43,
   "metadata": {},
   "outputs": [
    {
     "name": "stdout",
     "output_type": "stream",
     "text": [
      "$2b$14$9f/OQY4S8sxhLtYmZNlp3OXlrsSkNmSBjIczclOMMIzcSdOcqKvQe\n",
      "$$2b$$14$$9f/OQY4S8sxhLtYmZNlp3OXlrsSkNmSBjIczclOMMIzcSdOcqKvQe\n"
     ]
    }
   ],
   "source": [
    "from cspawn.util.auth import * \n",
    "\n",
    "password = 'password'\n",
    "password_enc = password.encode('utf-8')\n",
    "hashed = basic_auth_hash(password)\n",
    "quoted = docker_label_escape(hashed)\n",
    "\n",
    "print(hashed)\n",
    "print(quoted)"
   ]
  },
  {
   "cell_type": "code",
   "execution_count": 7,
   "metadata": {},
   "outputs": [
    {
     "name": "stdout",
     "output_type": "stream",
     "text": [
      "CPU times: user 2.73 s, sys: 64.2 ms, total: 2.8 s\n",
      "Wall time: 3.08 s\n"
     ]
    },
    {
     "data": {
      "text/plain": [
       "(354537, 0.354537)"
      ]
     },
     "execution_count": 7,
     "metadata": {},
     "output_type": "execute_result"
    }
   ],
   "source": [
    "%%time\n",
    "from cspawn.util.names import class_code\n",
    "\n",
    "s = set()\n",
    "N = int(1e6)\n",
    "for i in range(N):\n",
    "    s.add(class_code())\n",
    "\n",
    "len(s), len(s)/N"
   ]
  },
  {
   "cell_type": "code",
   "execution_count": 8,
   "metadata": {},
   "outputs": [
    {
     "data": {
      "text/plain": [
       "count    354537.000000\n",
       "mean         18.899731\n",
       "std           2.803537\n",
       "min           8.000000\n",
       "25%          17.000000\n",
       "50%          19.000000\n",
       "75%          21.000000\n",
       "max          25.000000\n",
       "dtype: float64"
      ]
     },
     "execution_count": 8,
     "metadata": {},
     "output_type": "execute_result"
    }
   ],
   "source": [
    "\n",
    "import pandas as pd\n",
    "\n",
    "# Calculate the lengths of strings in the set s\n",
    "lengths = [len(item) for item in s]\n",
    "\n",
    "pd.Series(lengths).describe()\n"
   ]
  },
  {
   "cell_type": "code",
   "execution_count": 11,
   "metadata": {},
   "outputs": [
    {
     "name": "stdout",
     "output_type": "stream",
     "text": [
      "Found 10 combinations of 4 numbers that sum to 23:\n",
      "(0, 6, 8, 9)\n",
      "(1, 5, 8, 9)\n",
      "(1, 6, 7, 9)\n",
      "(2, 4, 8, 9)\n",
      "(2, 5, 7, 9)\n",
      "(2, 6, 7, 8)\n",
      "(3, 4, 7, 9)\n",
      "(3, 5, 6, 9)\n",
      "(3, 5, 7, 8)\n",
      "(4, 5, 6, 8)\n"
     ]
    }
   ],
   "source": [
    "from itertools import combinations\n",
    "\n",
    "def find_combinations_with_sum(numbers, num_elements, target_sum):\n",
    "    \"\"\"\n",
    "    Find all combinations of a specified number of elements from a list\n",
    "    where the sum equals a target value.\n",
    "    \n",
    "    Args:\n",
    "        numbers: List of numbers to choose from\n",
    "        num_elements: Number of elements to include in each combination\n",
    "        target_sum: The sum we're looking for\n",
    "        \n",
    "    Returns:\n",
    "        List of combinations that sum to target_sum\n",
    "    \"\"\"\n",
    "    result = []\n",
    "    \n",
    "    # Generate all combinations of the specified size\n",
    "    for combo in combinations(numbers, num_elements):\n",
    "        # Check if the sum equals our target\n",
    "        if sum(combo) == target_sum:\n",
    "            result.append(combo)\n",
    "            \n",
    "    return result\n",
    "\n",
    "# Our set of numbers\n",
    "numbers = [0, 1, 2, 3, 4, 5, 6, 7, 8, 9]\n",
    "\n",
    "# Find all 4-number combinations summing to 23\n",
    "result = find_combinations_with_sum(numbers, 4, 23)\n",
    "\n",
    "# Print the results\n",
    "print(f\"Found {len(result)} combinations of 4 numbers that sum to 23:\")\n",
    "for combo in result:\n",
    "    print(combo)"
   ]
  },
  {
   "cell_type": "code",
   "execution_count": 12,
   "metadata": {},
   "outputs": [
    {
     "name": "stdout",
     "output_type": "stream",
     "text": [
      "Found 2 combinations of 4 numbers that sum to 23:\n",
      "(0, 1, 2, 3, 4, 5, 8)\n",
      "(0, 1, 2, 3, 4, 6, 7)\n"
     ]
    }
   ],
   "source": [
    "result = find_combinations_with_sum(numbers, 7, 23)\n",
    "\n",
    "# Print the results\n",
    "print(f\"Found {len(result)} combinations of 4 numbers that sum to 23:\")\n",
    "for combo in result:\n",
    "    print(combo)"
   ]
  },
  {
   "cell_type": "code",
   "execution_count": 16,
   "metadata": {},
   "outputs": [
    {
     "data": {
      "text/plain": [
       "([(0, 6, 8, 9),\n",
       "  (1, 5, 8, 9),\n",
       "  (1, 6, 7, 9),\n",
       "  (2, 4, 8, 9),\n",
       "  (2, 5, 7, 9),\n",
       "  (2, 6, 7, 8),\n",
       "  (3, 4, 7, 9),\n",
       "  (3, 5, 6, 9),\n",
       "  (3, 5, 7, 8),\n",
       "  (4, 5, 6, 8)],\n",
       " [(0, 1, 2, 3, 4, 5, 8), (0, 1, 2, 3, 4, 6, 7)])"
      ]
     },
     "execution_count": 16,
     "metadata": {},
     "output_type": "execute_result"
    }
   ],
   "source": [
    "r1 = find_combinations_with_sum(numbers, 4, 23)\n",
    "r2 = find_combinations_with_sum(numbers, 7, 23)\n",
    "\n",
    "r1, r2"
   ]
  },
  {
   "cell_type": "code",
   "execution_count": null,
   "metadata": {},
   "outputs": [],
   "source": []
  }
 ],
 "metadata": {
  "kernelspec": {
   "display_name": ".venv",
   "language": "python",
   "name": "python3"
  },
  "language_info": {
   "codemirror_mode": {
    "name": "ipython",
    "version": 3
   },
   "file_extension": ".py",
   "mimetype": "text/x-python",
   "name": "python",
   "nbconvert_exporter": "python",
   "pygments_lexer": "ipython3",
   "version": "3.11.11"
  }
 },
 "nbformat": 4,
 "nbformat_minor": 2
}
