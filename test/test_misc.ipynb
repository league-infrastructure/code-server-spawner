{
 "cells": [
  {
   "cell_type": "code",
   "execution_count": 1,
   "metadata": {},
   "outputs": [],
   "source": [
    "%load_ext autoreload\n",
    "%autoreload 2\n"
   ]
  },
  {
   "cell_type": "code",
   "execution_count": null,
   "metadata": {},
   "outputs": [],
   "source": [
    "\n",
    "import logging\n",
    "import unittest\n",
    "import warnings\n",
    "from pathlib import Path\n",
    "from sqlalchemy import MetaData\n",
    "\n",
    "import pytest\n",
    "from faker import Faker\n",
    "\n",
    "import cspawn\n",
    "from cspawn.cli.util import create_demo_users, create_demo_images, make_data\n",
    "from cspawn.docker.models import CodeHost, HostImage\n",
    "from cspawn.init import db\n",
    "from cspawn.main.models import User\n",
    "from cspawn.util.apptypes import App \n",
    "from cspawn.cli.util import create_demo_users, create_demo_images, make_data\n",
    "from cspawn.util.test_fixture import make_fake_user  \n",
    "\n",
    "from cspawn.init import init_app\n",
    "import bcrypt\n",
    "\n",
    "logger = logging.getLogger(\"cspawn.docker\")\n",
    "logger.setLevel(logging.INFO)\n",
    "\n",
    "this_dir = Path().cwd()\n",
    "config_dir = Path(cspawn.__file__).parent.parent\n",
    "dev_root = this_dir.parent\n",
    "data_dir = dev_root / \"data\"\n",
    "\n",
    "warnings.filterwarnings(\"ignore\")\n",
    "\n",
    "app = init_app(\n",
    "    config_dir=config_dir,\n",
    "    log_level=logging.ERROR,\n",
    "    sqlfile=this_dir / \"test.db\")\n"
   ]
  },
  {
   "cell_type": "code",
   "execution_count": 43,
   "metadata": {},
   "outputs": [
    {
     "name": "stdout",
     "output_type": "stream",
     "text": [
      "$2b$14$9f/OQY4S8sxhLtYmZNlp3OXlrsSkNmSBjIczclOMMIzcSdOcqKvQe\n",
      "$$2b$$14$$9f/OQY4S8sxhLtYmZNlp3OXlrsSkNmSBjIczclOMMIzcSdOcqKvQe\n"
     ]
    }
   ],
   "source": [
    "from cspawn.util.auth import * \n",
    "\n",
    "password = 'password'\n",
    "password_enc = password.encode('utf-8')\n",
    "hashed = basic_auth_hash(password)\n",
    "quoted = docker_label_escape(hashed)\n",
    "\n",
    "print(hashed)\n",
    "print(quoted)"
   ]
  },
  {
   "cell_type": "code",
   "execution_count": 13,
   "metadata": {},
   "outputs": [
    {
     "name": "stdout",
     "output_type": "stream",
     "text": [
      "CPU times: user 1min 38s, sys: 604 ms, total: 1min 38s\n",
      "Wall time: 1min 39s\n"
     ]
    },
    {
     "data": {
      "text/plain": [
       "(1106087, 0.02212174)"
      ]
     },
     "execution_count": 13,
     "metadata": {},
     "output_type": "execute_result"
    }
   ],
   "source": [
    "%%time\n",
    "from cspawn.util.names import class_code\n",
    "\n",
    "s = set()\n",
    "N = int(50e6)\n",
    "for i in range(N):\n",
    "    s.add(class_code())\n",
    "\n",
    "len(s), len(s)/N"
   ]
  },
  {
   "cell_type": "code",
   "execution_count": null,
   "metadata": {},
   "outputs": [],
   "source": []
  }
 ],
 "metadata": {
  "kernelspec": {
   "display_name": ".venv",
   "language": "python",
   "name": "python3"
  },
  "language_info": {
   "codemirror_mode": {
    "name": "ipython",
    "version": 3
   },
   "file_extension": ".py",
   "mimetype": "text/x-python",
   "name": "python",
   "nbconvert_exporter": "python",
   "pygments_lexer": "ipython3",
   "version": "3.11.11"
  }
 },
 "nbformat": 4,
 "nbformat_minor": 2
}
