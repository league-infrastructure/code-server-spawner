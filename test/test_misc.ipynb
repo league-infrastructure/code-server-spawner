{
 "cells": [
  {
   "cell_type": "code",
   "execution_count": 44,
   "metadata": {},
   "outputs": [
    {
     "name": "stdout",
     "output_type": "stream",
     "text": [
      "The autoreload extension is already loaded. To reload it, use:\n",
      "  %reload_ext autoreload\n"
     ]
    }
   ],
   "source": [
    "%load_ext autoreload\n",
    "%autoreload 2\n",
    "import logging\n",
    "import unittest\n",
    "import warnings\n",
    "from pathlib import Path\n",
    "from sqlalchemy import MetaData\n",
    "\n",
    "import pytest\n",
    "from faker import Faker\n",
    "\n",
    "import cspawn\n",
    "from cspawn.cli.util import create_demo_users, create_demo_images, make_data\n",
    "from cspawn.docker.models import CodeHost, HostImage\n",
    "from cspawn.init import db\n",
    "from cspawn.main.models import User\n",
    "from cspawn.util.apptypes import App \n",
    "from cspawn.cli.util import create_demo_users, create_demo_images, make_data\n",
    "from cspawn.util.test_fixture import make_fake_user  \n",
    "\n",
    "from cspawn.init import init_app\n",
    "import bcrypt\n",
    "\n",
    "logger = logging.getLogger(\"cspawn.docker\")\n",
    "logger.setLevel(logging.INFO)\n",
    "\n",
    "this_dir = Path().cwd()\n",
    "config_dir = Path(cspawn.__file__).parent.parent\n",
    "dev_root = this_dir.parent\n",
    "data_dir = dev_root / \"data\"\n",
    "\n",
    "warnings.filterwarnings(\"ignore\")\n",
    "\n",
    "app = init_app(\n",
    "    config_dir=config_dir,\n",
    "    log_level=logging.ERROR,\n",
    "    sqlfile=this_dir / \"test.db\")\n"
   ]
  },
  {
   "cell_type": "code",
   "execution_count": 43,
   "metadata": {},
   "outputs": [
    {
     "name": "stdout",
     "output_type": "stream",
     "text": [
      "$2b$14$9f/OQY4S8sxhLtYmZNlp3OXlrsSkNmSBjIczclOMMIzcSdOcqKvQe\n",
      "$$2b$$14$$9f/OQY4S8sxhLtYmZNlp3OXlrsSkNmSBjIczclOMMIzcSdOcqKvQe\n"
     ]
    }
   ],
   "source": [
    "from cspawn.util.auth import * \n",
    "\n",
    "password = 'password'\n",
    "password_enc = password.encode('utf-8')\n",
    "hashed = basic_auth_hash(password)\n",
    "quoted = docker_label_escape(hashed)\n",
    "\n",
    "print(hashed)\n",
    "print(quoted)"
   ]
  },
  {
   "cell_type": "code",
   "execution_count": 45,
   "metadata": {},
   "outputs": [
    {
     "data": {
      "text/plain": [
       "True"
      ]
     },
     "execution_count": 45,
     "metadata": {},
     "output_type": "execute_result"
    }
   ],
   "source": [
    "hashed = bcrypt.hashpw(password.encode('utf-8'), bcrypt.gensalt())\n",
    "\n",
    "bcrypt.hashpw(password.encode('utf-8'), hashed) == hashed"
   ]
  },
  {
   "cell_type": "code",
   "execution_count": 48,
   "metadata": {},
   "outputs": [
    {
     "name": "stdout",
     "output_type": "stream",
     "text": [
      "b'$2b$12$5tw2uQBYukFAs7Cp31Nd4ugr99JjP9pdtayyjaFMZE2f.WnfqwZ7u'\n",
      "It Matches!\n"
     ]
    }
   ],
   "source": [
    "\n",
    "p2 = \"super secret password\".encode('utf-8')\n",
    " # Hash a password for the first time, with a randomly-generated salt\n",
    "hashed = bcrypt.hashpw(p2, bcrypt.gensalt())\n",
    "print(hashed)\n",
    "# Check that a unhashed password matches one that has previously been\n",
    "#   hashed\n",
    "if bcrypt.hashpw(p2, hashed) == hashed:\n",
    "     print(\"It Matches!\")\n",
    "else:\n",
    "     print(\"It Does not Match :(\")"
   ]
  },
  {
   "cell_type": "code",
   "execution_count": 46,
   "metadata": {},
   "outputs": [
    {
     "data": {
      "text/plain": [
       "b'$2b$12$vrRf0o6o6puxzq1vE9gHx.x1NsCI63tpWpZaCbFZzHHxNFIcitQba'"
      ]
     },
     "execution_count": 46,
     "metadata": {},
     "output_type": "execute_result"
    }
   ],
   "source": [
    "hashed"
   ]
  },
  {
   "cell_type": "code",
   "execution_count": 47,
   "metadata": {},
   "outputs": [
    {
     "data": {
      "text/plain": [
       "False"
      ]
     },
     "execution_count": 47,
     "metadata": {},
     "output_type": "execute_result"
    }
   ],
   "source": [
    "hashed = '$2b$14$bEXr84v/WgXtrI60VUVLc.3BQbIsnb9TagCQEsXk0cLEdmpdcpbRO'.encode('utf-8')\n",
    "\n",
    "bcrypt.hashpw(password.encode('utf-8'), hashed) == hashed\n"
   ]
  },
  {
   "cell_type": "code",
   "execution_count": 50,
   "metadata": {},
   "outputs": [
    {
     "data": {
      "text/plain": [
       "'Uu9ujDorkwmWpPu6gfDn8BVDXzokbiVPKtLcJvAm4G4='"
      ]
     },
     "execution_count": 50,
     "metadata": {},
     "output_type": "execute_result"
    }
   ],
   "source": [
    "import os\n",
    "size = 32\n",
    "base64.b64encode(os.urandom(size)).decode('utf-8')"
   ]
  },
  {
   "cell_type": "code",
   "execution_count": null,
   "metadata": {},
   "outputs": [],
   "source": []
  }
 ],
 "metadata": {
  "kernelspec": {
   "display_name": ".venv",
   "language": "python",
   "name": "python3"
  },
  "language_info": {
   "codemirror_mode": {
    "name": "ipython",
    "version": 3
   },
   "file_extension": ".py",
   "mimetype": "text/x-python",
   "name": "python",
   "nbconvert_exporter": "python",
   "pygments_lexer": "ipython3",
   "version": "3.11.11"
  }
 },
 "nbformat": 4,
 "nbformat_minor": 2
}
