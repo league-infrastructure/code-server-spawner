{
 "cells": [
  {
   "cell_type": "code",
   "execution_count": 4,
   "metadata": {},
   "outputs": [
    {
     "name": "stdout",
     "output_type": "stream",
     "text": [
      "The autoreload extension is already loaded. To reload it, use:\n",
      "  %reload_ext autoreload\n"
     ]
    }
   ],
   "source": [
    "%load_ext autoreload\n",
    "%autoreload 2\n",
    "\n",
    "from cspawn.control import CodeServerManager\n",
    "from jtlutil.flask.flaskapp import get_config_tree\n",
    "from pathlib import Path\n",
    "\n",
    "config_dir = Path().cwd().parent \n",
    "\n",
    "config = get_config_tree(config_dir, 'devel')\n",
    "\n",
    "csm = CodeServerManager(config)\n"
   ]
  },
  {
   "cell_type": "code",
   "execution_count": 5,
   "metadata": {},
   "outputs": [
    {
     "name": "stdout",
     "output_type": "stream",
     "text": [
      "linus-torvalds\n",
      "vint-cerf\n",
      "edsger-dijkstra\n",
      "claude-shannon\n",
      "donald-knuth\n",
      "kenneth-thompson\n",
      "busboom\n",
      "john-von-neumann\n",
      "tim-berners-lee\n",
      "alan-turing\n",
      "dennis-ritchie\n"
     ]
    }
   ],
   "source": [
    "try:\n",
    "    csm.get('busboom').remove()\n",
    "except:\n",
    "    pass\n",
    "\n",
    "x = csm.new_cs(\"busboom\")\n",
    "\n",
    "for e in csm.list():\n",
    "    print(e.name)\n",
    "\n",
    "\n"
   ]
  },
  {
   "cell_type": "code",
   "execution_count": 37,
   "metadata": {},
   "outputs": [
    {
     "data": {
      "text/plain": [
       "<jtlutil.docker.proc.Service at 0x11429ac10>"
      ]
     },
     "execution_count": 37,
     "metadata": {},
     "output_type": "execute_result"
    }
   ],
   "source": [
    "x"
   ]
  },
  {
   "cell_type": "code",
   "execution_count": null,
   "metadata": {},
   "outputs": [],
   "source": []
  },
  {
   "cell_type": "code",
   "execution_count": null,
   "metadata": {},
   "outputs": [],
   "source": []
  }
 ],
 "metadata": {
  "kernelspec": {
   "display_name": ".venv",
   "language": "python",
   "name": "python3"
  },
  "language_info": {
   "codemirror_mode": {
    "name": "ipython",
    "version": 3
   },
   "file_extension": ".py",
   "mimetype": "text/x-python",
   "name": "python",
   "nbconvert_exporter": "python",
   "pygments_lexer": "ipython3",
   "version": "3.11.11"
  }
 },
 "nbformat": 4,
 "nbformat_minor": 2
}
