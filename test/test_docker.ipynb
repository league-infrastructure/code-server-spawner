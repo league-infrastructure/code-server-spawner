{
 "cells": [
  {
   "cell_type": "code",
   "execution_count": 3,
   "metadata": {},
   "outputs": [
    {
     "ename": "KeyError",
     "evalue": "'SECRET_KEY'",
     "output_type": "error",
     "traceback": [
      "\u001b[0;31m---------------------------------------------------------------------------\u001b[0m",
      "\u001b[0;31mKeyError\u001b[0m                                  Traceback (most recent call last)",
      "Cell \u001b[0;32mIn[3], line 1\u001b[0m\n\u001b[0;32m----> 1\u001b[0m \u001b[38;5;28;01mfrom\u001b[39;00m\u001b[38;5;250m \u001b[39m\u001b[38;5;21;01mcspawn\u001b[39;00m\u001b[38;5;21;01m.\u001b[39;00m\u001b[38;5;21;01mcontrol\u001b[39;00m\u001b[38;5;250m \u001b[39m\u001b[38;5;28;01mimport\u001b[39;00m \u001b[38;5;241m*\u001b[39m \n",
      "File \u001b[0;32m~/proj/league-projects/code-server-mono/code-server-spawner/cspawn/__init__.py:1\u001b[0m\n\u001b[0;32m----> 1\u001b[0m \u001b[38;5;28;01mfrom\u001b[39;00m\u001b[38;5;250m \u001b[39m\u001b[38;5;21;01m.\u001b[39;00m\u001b[38;5;21;01mapp\u001b[39;00m\u001b[38;5;250m \u001b[39m\u001b[38;5;28;01mimport\u001b[39;00m app\n",
      "File \u001b[0;32m~/proj/league-projects/code-server-mono/code-server-spawner/cspawn/app.py:74\u001b[0m\n\u001b[1;32m     69\u001b[0m     app\u001b[38;5;241m.\u001b[39muser_db_path \u001b[38;5;241m=\u001b[39m db_dir \u001b[38;5;241m/\u001b[39m \u001b[38;5;124m\"\u001b[39m\u001b[38;5;124musers.db\u001b[39m\u001b[38;5;124m\"\u001b[39m\n\u001b[1;32m     71\u001b[0m     \u001b[38;5;28;01mreturn\u001b[39;00m app\n\u001b[0;32m---> 74\u001b[0m app \u001b[38;5;241m=\u001b[39m \u001b[43minit_app\u001b[49m\u001b[43m(\u001b[49m\u001b[43m)\u001b[49m\n\u001b[1;32m     77\u001b[0m \u001b[38;5;129m@app\u001b[39m\u001b[38;5;241m.\u001b[39mteardown_appcontext\n\u001b[1;32m     78\u001b[0m \u001b[38;5;28;01mdef\u001b[39;00m\u001b[38;5;250m \u001b[39m\u001b[38;5;21mclose_db\u001b[39m(exception):\n\u001b[1;32m     79\u001b[0m     db \u001b[38;5;241m=\u001b[39m g\u001b[38;5;241m.\u001b[39mpop(\u001b[38;5;124m\"\u001b[39m\u001b[38;5;124mdb\u001b[39m\u001b[38;5;124m\"\u001b[39m, \u001b[38;5;28;01mNone\u001b[39;00m)\n",
      "File \u001b[0;32m~/proj/league-projects/code-server-mono/code-server-spawner/cspawn/app.py:47\u001b[0m, in \u001b[0;36minit_app\u001b[0;34m(file)\u001b[0m\n\u001b[1;32m     44\u001b[0m app\u001b[38;5;241m.\u001b[39mlogin_manager\u001b[38;5;241m.\u001b[39mlogin_view \u001b[38;5;241m=\u001b[39m \u001b[38;5;124m\"\u001b[39m\u001b[38;5;124mlogin\u001b[39m\u001b[38;5;124m\"\u001b[39m\n\u001b[1;32m     46\u001b[0m \u001b[38;5;66;03m# configure_config(app)\u001b[39;00m\n\u001b[0;32m---> 47\u001b[0m \u001b[43mconfigure_config_tree\u001b[49m\u001b[43m(\u001b[49m\u001b[43mapp\u001b[49m\u001b[43m)\u001b[49m\n\u001b[1;32m     49\u001b[0m \u001b[38;5;66;03m# Initialize logger\u001b[39;00m\n\u001b[1;32m     50\u001b[0m init_logger(app)\n",
      "File \u001b[0;32m~/proj/league-projects/code-server-mono/jtlutil/src/jtlutil/flask/flaskapp.py:151\u001b[0m, in \u001b[0;36mconfigure_config_tree\u001b[0;34m(app)\u001b[0m\n\u001b[1;32m    148\u001b[0m config \u001b[38;5;241m=\u001b[39m get_config_tree(config_dir, deploy_name\u001b[38;5;241m=\u001b[39mdeploy)\n\u001b[1;32m    150\u001b[0m \u001b[38;5;66;03m# Set the Flask secret key\u001b[39;00m\n\u001b[0;32m--> 151\u001b[0m app\u001b[38;5;241m.\u001b[39msecret_key \u001b[38;5;241m=\u001b[39m \u001b[43mconfig\u001b[49m\u001b[43m[\u001b[49m\u001b[38;5;124;43m\"\u001b[39;49m\u001b[38;5;124;43mSECRET_KEY\u001b[39;49m\u001b[38;5;124;43m\"\u001b[39;49m\u001b[43m]\u001b[49m\n\u001b[1;32m    153\u001b[0m \u001b[38;5;66;03m# Resolve the path to the secrets file\u001b[39;00m\n\u001b[1;32m    154\u001b[0m \u001b[38;5;28;01mif\u001b[39;00m \u001b[38;5;124m'\u001b[39m\u001b[38;5;124mSECRETS_FILE_NAME\u001b[39m\u001b[38;5;124m'\u001b[39m \u001b[38;5;129;01min\u001b[39;00m config:\n",
      "File \u001b[0;32m~/proj/league-projects/code-server-mono/jtlutil/src/jtlutil/config.py:25\u001b[0m, in \u001b[0;36mConfig.__getitem__\u001b[0;34m(self, key)\u001b[0m\n\u001b[1;32m     24\u001b[0m \u001b[38;5;28;01mdef\u001b[39;00m\u001b[38;5;250m \u001b[39m\u001b[38;5;21m__getitem__\u001b[39m(\u001b[38;5;28mself\u001b[39m, key: \u001b[38;5;28mstr\u001b[39m) \u001b[38;5;241m-\u001b[39m\u001b[38;5;241m>\u001b[39m Any:\n\u001b[0;32m---> 25\u001b[0m     \u001b[38;5;28;01mreturn\u001b[39;00m \u001b[38;5;28;43mself\u001b[39;49m\u001b[38;5;241;43m.\u001b[39;49m\u001b[43m_config_dict\u001b[49m\u001b[43m[\u001b[49m\u001b[43mkey\u001b[49m\u001b[43m]\u001b[49m\n",
      "\u001b[0;31mKeyError\u001b[0m: 'SECRET_KEY'"
     ]
    }
   ],
   "source": [
    "from cspawn.control import * \n",
    "\n"
   ]
  },
  {
   "cell_type": "code",
   "execution_count": null,
   "metadata": {},
   "outputs": [],
   "source": []
  },
  {
   "cell_type": "code",
   "execution_count": null,
   "metadata": {},
   "outputs": [],
   "source": []
  }
 ],
 "metadata": {
  "kernelspec": {
   "display_name": ".venv",
   "language": "python",
   "name": "python3"
  },
  "language_info": {
   "codemirror_mode": {
    "name": "ipython",
    "version": 3
   },
   "file_extension": ".py",
   "mimetype": "text/x-python",
   "name": "python",
   "nbconvert_exporter": "python",
   "pygments_lexer": "ipython3",
   "version": "3.11.11"
  }
 },
 "nbformat": 4,
 "nbformat_minor": 2
}
